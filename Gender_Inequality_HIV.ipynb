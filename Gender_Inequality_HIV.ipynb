{
  "nbformat": 4,
  "nbformat_minor": 0,
  "metadata": {
    "colab": {
      "name": "Gender_Inequality_HIV.ipynb",
      "provenance": [],
      "authorship_tag": "ABX9TyO3IaaQ4UzZQc7CAz+DU3be",
      "include_colab_link": true
    },
    "kernelspec": {
      "name": "python3",
      "display_name": "Python 3"
    },
    "language_info": {
      "name": "python"
    }
  },
  "cells": [
    {
      "cell_type": "markdown",
      "metadata": {
        "id": "view-in-github",
        "colab_type": "text"
      },
      "source": [
        "<a href=\"https://colab.research.google.com/github/robsworld718/Gender_Inequality_HIV/blob/main/Gender_Inequality_HIV.ipynb\" target=\"_parent\"><img src=\"https://colab.research.google.com/assets/colab-badge.svg\" alt=\"Open In Colab\"/></a>"
      ]
    },
    {
      "cell_type": "code",
      "source": [
        "from google.colab import drive\n",
        "drive.mount('/content/drive')"
      ],
      "metadata": {
        "colab": {
          "base_uri": "https://localhost:8080/"
        },
        "id": "SxzA1WTcjfVI",
        "outputId": "a0a96b61-2924-4fda-c76e-759d822210b1"
      },
      "execution_count": 2,
      "outputs": [
        {
          "output_type": "stream",
          "name": "stdout",
          "text": [
            "Mounted at /content/drive\n"
          ]
        }
      ]
    },
    {
      "cell_type": "code",
      "execution_count": 1,
      "metadata": {
        "id": "dXPUj_CxjKU7"
      },
      "outputs": [],
      "source": [
        "import matplotlib.pyplot as plt\n",
        "import seaborn as sns\n",
        "import pandas as pd\n",
        "import numpy as np\n",
        "filename = '/content/Jan 2021 Data - Viz5 Gender Inequality and HIVAIDS.csv'"
      ]
    },
    {
      "cell_type": "code",
      "source": [
        "Gender_hiv = pd.read_csv(filename, encoding= 'unicode_escape')\n",
        "Gender_hiv.info()"
      ],
      "metadata": {
        "colab": {
          "base_uri": "https://localhost:8080/"
        },
        "id": "l6rvX8A9jWuK",
        "outputId": "0ad99dfd-688c-4525-df68-f73cde18f3fb"
      },
      "execution_count": 9,
      "outputs": [
        {
          "output_type": "stream",
          "name": "stdout",
          "text": [
            "<class 'pandas.core.frame.DataFrame'>\n",
            "RangeIndex: 2640 entries, 0 to 2639\n",
            "Data columns (total 10 columns):\n",
            " #   Column                                                                          Non-Null Count  Dtype  \n",
            "---  ------                                                                          --------------  -----  \n",
            " 0   Country                                                                         2640 non-null   object \n",
            " 1   UNICEF Region                                                                   2640 non-null   object \n",
            " 2   Year                                                                            2640 non-null   int64  \n",
            " 3   Sex                                                                             2640 non-null   object \n",
            " 4   Age                                                                             2640 non-null   object \n",
            " 5   Estimated incidence rate of new HIV infection per 1 000 uninfected population   2520 non-null   float64\n",
            " 6   Estimated number of annual AIDS related deaths                                  2580 non-null   float64\n",
            " 7   Estimated number of annual new HIV infections                                   2520 non-null   float64\n",
            " 8   Estimated number of people living with HIV                                      2640 non-null   int64  \n",
            " 9   Estimated rate of annual AIDS related deaths  per 100 000 population            2580 non-null   float64\n",
            "dtypes: float64(4), int64(2), object(4)\n",
            "memory usage: 206.4+ KB\n"
          ]
        }
      ]
    },
    {
      "cell_type": "code",
      "source": [
        "Gender_hiv.duplicated().any()"
      ],
      "metadata": {
        "colab": {
          "base_uri": "https://localhost:8080/"
        },
        "id": "G5osg_5CnWVq",
        "outputId": "52e6a202-8839-4022-e6b9-0c00dfbaf57d"
      },
      "execution_count": 10,
      "outputs": [
        {
          "output_type": "execute_result",
          "data": {
            "text/plain": [
              "False"
            ]
          },
          "metadata": {},
          "execution_count": 10
        }
      ]
    },
    {
      "cell_type": "code",
      "source": [
        "Gender_hiv.isnull().sum()"
      ],
      "metadata": {
        "colab": {
          "base_uri": "https://localhost:8080/"
        },
        "id": "42YAOh5PnbOg",
        "outputId": "7584306a-3270-48d0-a6ef-e87d1f168d06"
      },
      "execution_count": 11,
      "outputs": [
        {
          "output_type": "execute_result",
          "data": {
            "text/plain": [
              "Country                                                                             0\n",
              "UNICEF Region                                                                       0\n",
              "Year                                                                                0\n",
              "Sex                                                                                 0\n",
              "Age                                                                                 0\n",
              "Estimated incidence rate of new HIV infection per 1 000 uninfected population     120\n",
              "Estimated number of annual AIDS related deaths                                     60\n",
              "Estimated number of annual new HIV infections                                     120\n",
              "Estimated number of people living with HIV                                          0\n",
              "Estimated rate of annual AIDS related deaths  per 100 000 population               60\n",
              "dtype: int64"
            ]
          },
          "metadata": {},
          "execution_count": 11
        }
      ]
    },
    {
      "cell_type": "code",
      "source": [
        "Gender_hiv[Gender_hiv['Estimated incidence rate of new HIV infection per 1 000 uninfected population '].isnull()]"
      ],
      "metadata": {
        "colab": {
          "base_uri": "https://localhost:8080/",
          "height": 849
        },
        "id": "M408z57unm1a",
        "outputId": "e4e61a5f-e608-46fa-8f0d-092a44344a4c"
      },
      "execution_count": 12,
      "outputs": [
        {
          "output_type": "execute_result",
          "data": {
            "text/html": [
              "\n",
              "  <div id=\"df-3f3476c7-12e8-48d1-a5ce-745548a62719\">\n",
              "    <div class=\"colab-df-container\">\n",
              "      <div>\n",
              "<style scoped>\n",
              "    .dataframe tbody tr th:only-of-type {\n",
              "        vertical-align: middle;\n",
              "    }\n",
              "\n",
              "    .dataframe tbody tr th {\n",
              "        vertical-align: top;\n",
              "    }\n",
              "\n",
              "    .dataframe thead th {\n",
              "        text-align: right;\n",
              "    }\n",
              "</style>\n",
              "<table border=\"1\" class=\"dataframe\">\n",
              "  <thead>\n",
              "    <tr style=\"text-align: right;\">\n",
              "      <th></th>\n",
              "      <th>Country</th>\n",
              "      <th>UNICEF Region</th>\n",
              "      <th>Year</th>\n",
              "      <th>Sex</th>\n",
              "      <th>Age</th>\n",
              "      <th>Estimated incidence rate of new HIV infection per 1 000 uninfected population</th>\n",
              "      <th>Estimated number of annual AIDS related deaths</th>\n",
              "      <th>Estimated number of annual new HIV infections</th>\n",
              "      <th>Estimated number of people living with HIV</th>\n",
              "      <th>Estimated rate of annual AIDS related deaths  per 100 000 population</th>\n",
              "    </tr>\n",
              "  </thead>\n",
              "  <tbody>\n",
              "    <tr>\n",
              "      <th>1320</th>\n",
              "      <td>Mali</td>\n",
              "      <td>West and Central Africa</td>\n",
              "      <td>1990</td>\n",
              "      <td>Female</td>\n",
              "      <td>Age 10-19</td>\n",
              "      <td>NaN</td>\n",
              "      <td>100.0</td>\n",
              "      <td>NaN</td>\n",
              "      <td>3600</td>\n",
              "      <td>2.22</td>\n",
              "    </tr>\n",
              "    <tr>\n",
              "      <th>1321</th>\n",
              "      <td>Mali</td>\n",
              "      <td>West and Central Africa</td>\n",
              "      <td>1990</td>\n",
              "      <td>Male</td>\n",
              "      <td>Age 10-19</td>\n",
              "      <td>NaN</td>\n",
              "      <td>100.0</td>\n",
              "      <td>NaN</td>\n",
              "      <td>1000</td>\n",
              "      <td>0.69</td>\n",
              "    </tr>\n",
              "    <tr>\n",
              "      <th>1322</th>\n",
              "      <td>Mali</td>\n",
              "      <td>West and Central Africa</td>\n",
              "      <td>1991</td>\n",
              "      <td>Female</td>\n",
              "      <td>Age 10-19</td>\n",
              "      <td>NaN</td>\n",
              "      <td>100.0</td>\n",
              "      <td>NaN</td>\n",
              "      <td>4000</td>\n",
              "      <td>2.55</td>\n",
              "    </tr>\n",
              "    <tr>\n",
              "      <th>1323</th>\n",
              "      <td>Mali</td>\n",
              "      <td>West and Central Africa</td>\n",
              "      <td>1991</td>\n",
              "      <td>Male</td>\n",
              "      <td>Age 10-19</td>\n",
              "      <td>NaN</td>\n",
              "      <td>100.0</td>\n",
              "      <td>NaN</td>\n",
              "      <td>1100</td>\n",
              "      <td>0.76</td>\n",
              "    </tr>\n",
              "    <tr>\n",
              "      <th>1324</th>\n",
              "      <td>Mali</td>\n",
              "      <td>West and Central Africa</td>\n",
              "      <td>1992</td>\n",
              "      <td>Female</td>\n",
              "      <td>Age 10-19</td>\n",
              "      <td>NaN</td>\n",
              "      <td>100.0</td>\n",
              "      <td>NaN</td>\n",
              "      <td>4200</td>\n",
              "      <td>2.86</td>\n",
              "    </tr>\n",
              "    <tr>\n",
              "      <th>...</th>\n",
              "      <td>...</td>\n",
              "      <td>...</td>\n",
              "      <td>...</td>\n",
              "      <td>...</td>\n",
              "      <td>...</td>\n",
              "      <td>...</td>\n",
              "      <td>...</td>\n",
              "      <td>...</td>\n",
              "      <td>...</td>\n",
              "      <td>...</td>\n",
              "    </tr>\n",
              "    <tr>\n",
              "      <th>1495</th>\n",
              "      <td>Mauritania</td>\n",
              "      <td>West and Central Africa</td>\n",
              "      <td>2017</td>\n",
              "      <td>Male</td>\n",
              "      <td>Age 10-19</td>\n",
              "      <td>NaN</td>\n",
              "      <td>100.0</td>\n",
              "      <td>NaN</td>\n",
              "      <td>200</td>\n",
              "      <td>1.66</td>\n",
              "    </tr>\n",
              "    <tr>\n",
              "      <th>1496</th>\n",
              "      <td>Mauritania</td>\n",
              "      <td>West and Central Africa</td>\n",
              "      <td>2018</td>\n",
              "      <td>Female</td>\n",
              "      <td>Age 10-19</td>\n",
              "      <td>NaN</td>\n",
              "      <td>100.0</td>\n",
              "      <td>NaN</td>\n",
              "      <td>200</td>\n",
              "      <td>1.42</td>\n",
              "    </tr>\n",
              "    <tr>\n",
              "      <th>1497</th>\n",
              "      <td>Mauritania</td>\n",
              "      <td>West and Central Africa</td>\n",
              "      <td>2018</td>\n",
              "      <td>Male</td>\n",
              "      <td>Age 10-19</td>\n",
              "      <td>NaN</td>\n",
              "      <td>100.0</td>\n",
              "      <td>NaN</td>\n",
              "      <td>200</td>\n",
              "      <td>1.61</td>\n",
              "    </tr>\n",
              "    <tr>\n",
              "      <th>1498</th>\n",
              "      <td>Mauritania</td>\n",
              "      <td>West and Central Africa</td>\n",
              "      <td>2019</td>\n",
              "      <td>Female</td>\n",
              "      <td>Age 10-19</td>\n",
              "      <td>NaN</td>\n",
              "      <td>100.0</td>\n",
              "      <td>NaN</td>\n",
              "      <td>200</td>\n",
              "      <td>1.38</td>\n",
              "    </tr>\n",
              "    <tr>\n",
              "      <th>1499</th>\n",
              "      <td>Mauritania</td>\n",
              "      <td>West and Central Africa</td>\n",
              "      <td>2019</td>\n",
              "      <td>Male</td>\n",
              "      <td>Age 10-19</td>\n",
              "      <td>NaN</td>\n",
              "      <td>100.0</td>\n",
              "      <td>NaN</td>\n",
              "      <td>200</td>\n",
              "      <td>1.57</td>\n",
              "    </tr>\n",
              "  </tbody>\n",
              "</table>\n",
              "<p>120 rows × 10 columns</p>\n",
              "</div>\n",
              "      <button class=\"colab-df-convert\" onclick=\"convertToInteractive('df-3f3476c7-12e8-48d1-a5ce-745548a62719')\"\n",
              "              title=\"Convert this dataframe to an interactive table.\"\n",
              "              style=\"display:none;\">\n",
              "        \n",
              "  <svg xmlns=\"http://www.w3.org/2000/svg\" height=\"24px\"viewBox=\"0 0 24 24\"\n",
              "       width=\"24px\">\n",
              "    <path d=\"M0 0h24v24H0V0z\" fill=\"none\"/>\n",
              "    <path d=\"M18.56 5.44l.94 2.06.94-2.06 2.06-.94-2.06-.94-.94-2.06-.94 2.06-2.06.94zm-11 1L8.5 8.5l.94-2.06 2.06-.94-2.06-.94L8.5 2.5l-.94 2.06-2.06.94zm10 10l.94 2.06.94-2.06 2.06-.94-2.06-.94-.94-2.06-.94 2.06-2.06.94z\"/><path d=\"M17.41 7.96l-1.37-1.37c-.4-.4-.92-.59-1.43-.59-.52 0-1.04.2-1.43.59L10.3 9.45l-7.72 7.72c-.78.78-.78 2.05 0 2.83L4 21.41c.39.39.9.59 1.41.59.51 0 1.02-.2 1.41-.59l7.78-7.78 2.81-2.81c.8-.78.8-2.07 0-2.86zM5.41 20L4 18.59l7.72-7.72 1.47 1.35L5.41 20z\"/>\n",
              "  </svg>\n",
              "      </button>\n",
              "      \n",
              "  <style>\n",
              "    .colab-df-container {\n",
              "      display:flex;\n",
              "      flex-wrap:wrap;\n",
              "      gap: 12px;\n",
              "    }\n",
              "\n",
              "    .colab-df-convert {\n",
              "      background-color: #E8F0FE;\n",
              "      border: none;\n",
              "      border-radius: 50%;\n",
              "      cursor: pointer;\n",
              "      display: none;\n",
              "      fill: #1967D2;\n",
              "      height: 32px;\n",
              "      padding: 0 0 0 0;\n",
              "      width: 32px;\n",
              "    }\n",
              "\n",
              "    .colab-df-convert:hover {\n",
              "      background-color: #E2EBFA;\n",
              "      box-shadow: 0px 1px 2px rgba(60, 64, 67, 0.3), 0px 1px 3px 1px rgba(60, 64, 67, 0.15);\n",
              "      fill: #174EA6;\n",
              "    }\n",
              "\n",
              "    [theme=dark] .colab-df-convert {\n",
              "      background-color: #3B4455;\n",
              "      fill: #D2E3FC;\n",
              "    }\n",
              "\n",
              "    [theme=dark] .colab-df-convert:hover {\n",
              "      background-color: #434B5C;\n",
              "      box-shadow: 0px 1px 3px 1px rgba(0, 0, 0, 0.15);\n",
              "      filter: drop-shadow(0px 1px 2px rgba(0, 0, 0, 0.3));\n",
              "      fill: #FFFFFF;\n",
              "    }\n",
              "  </style>\n",
              "\n",
              "      <script>\n",
              "        const buttonEl =\n",
              "          document.querySelector('#df-3f3476c7-12e8-48d1-a5ce-745548a62719 button.colab-df-convert');\n",
              "        buttonEl.style.display =\n",
              "          google.colab.kernel.accessAllowed ? 'block' : 'none';\n",
              "\n",
              "        async function convertToInteractive(key) {\n",
              "          const element = document.querySelector('#df-3f3476c7-12e8-48d1-a5ce-745548a62719');\n",
              "          const dataTable =\n",
              "            await google.colab.kernel.invokeFunction('convertToInteractive',\n",
              "                                                     [key], {});\n",
              "          if (!dataTable) return;\n",
              "\n",
              "          const docLinkHtml = 'Like what you see? Visit the ' +\n",
              "            '<a target=\"_blank\" href=https://colab.research.google.com/notebooks/data_table.ipynb>data table notebook</a>'\n",
              "            + ' to learn more about interactive tables.';\n",
              "          element.innerHTML = '';\n",
              "          dataTable['output_type'] = 'display_data';\n",
              "          await google.colab.output.renderOutput(dataTable, element);\n",
              "          const docLink = document.createElement('div');\n",
              "          docLink.innerHTML = docLinkHtml;\n",
              "          element.appendChild(docLink);\n",
              "        }\n",
              "      </script>\n",
              "    </div>\n",
              "  </div>\n",
              "  "
            ],
            "text/plain": [
              "         Country  ... Estimated rate of annual AIDS related deaths  per 100 000 population \n",
              "1320        Mali  ...                                               2.22                   \n",
              "1321        Mali  ...                                               0.69                   \n",
              "1322        Mali  ...                                               2.55                   \n",
              "1323        Mali  ...                                               0.76                   \n",
              "1324        Mali  ...                                               2.86                   \n",
              "...          ...  ...                                                ...                   \n",
              "1495  Mauritania  ...                                               1.66                   \n",
              "1496  Mauritania  ...                                               1.42                   \n",
              "1497  Mauritania  ...                                               1.61                   \n",
              "1498  Mauritania  ...                                               1.38                   \n",
              "1499  Mauritania  ...                                               1.57                   \n",
              "\n",
              "[120 rows x 10 columns]"
            ]
          },
          "metadata": {},
          "execution_count": 12
        }
      ]
    }
  ]
}