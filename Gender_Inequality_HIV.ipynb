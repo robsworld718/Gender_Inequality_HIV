{
  "nbformat": 4,
  "nbformat_minor": 0,
  "metadata": {
    "colab": {
      "name": "Gender_Inequality_HIV.ipynb",
      "provenance": [],
      "mount_file_id": "1qMy42QN-TSotX1Jv8kahubUb7Mrl5vfV",
      "authorship_tag": "ABX9TyPX2Tf2yXpJQp6qS+LYEvY1",
      "include_colab_link": true
    },
    "kernelspec": {
      "name": "python3",
      "display_name": "Python 3"
    },
    "language_info": {
      "name": "python"
    }
  },
  "cells": [
    {
      "cell_type": "markdown",
      "metadata": {
        "id": "view-in-github",
        "colab_type": "text"
      },
      "source": [
        "<a href=\"https://colab.research.google.com/github/robsworld718/Gender_Inequality_HIV/blob/main/Gender_Inequality_HIV.ipynb\" target=\"_parent\"><img src=\"https://colab.research.google.com/assets/colab-badge.svg\" alt=\"Open In Colab\"/></a>"
      ]
    },
    {
      "cell_type": "code",
      "source": [
        "from google.colab import drive\n",
        "drive.mount('/content/drive')"
      ],
      "metadata": {
        "colab": {
          "base_uri": "https://localhost:8080/"
        },
        "id": "SxzA1WTcjfVI",
        "outputId": "baca968b-8e8f-41cf-fcf3-e725acbf4c5f"
      },
      "execution_count": 1,
      "outputs": [
        {
          "output_type": "stream",
          "name": "stdout",
          "text": [
            "Drive already mounted at /content/drive; to attempt to forcibly remount, call drive.mount(\"/content/drive\", force_remount=True).\n"
          ]
        }
      ]
    },
    {
      "cell_type": "code",
      "execution_count": 2,
      "metadata": {
        "id": "dXPUj_CxjKU7"
      },
      "outputs": [],
      "source": [
        "import matplotlib.pyplot as plt\n",
        "import seaborn as sns\n",
        "import pandas as pd\n",
        "import numpy as np\n",
        "filename = '/content/Jan 2021 Data - Viz5 Gender Inequality and HIVAIDS.csv'"
      ]
    },
    {
      "cell_type": "code",
      "source": [
        "Gender_hiv = pd.read_csv(filename, encoding= 'unicode_escape')\n",
        "Gender_hiv.info()"
      ],
      "metadata": {
        "colab": {
          "base_uri": "https://localhost:8080/"
        },
        "id": "l6rvX8A9jWuK",
        "outputId": "6fc33aec-afba-4a77-ea51-cb09e0b8663f"
      },
      "execution_count": 3,
      "outputs": [
        {
          "output_type": "stream",
          "name": "stdout",
          "text": [
            "<class 'pandas.core.frame.DataFrame'>\n",
            "RangeIndex: 2640 entries, 0 to 2639\n",
            "Data columns (total 10 columns):\n",
            " #   Column                                                                          Non-Null Count  Dtype  \n",
            "---  ------                                                                          --------------  -----  \n",
            " 0   Country                                                                         2640 non-null   object \n",
            " 1   UNICEF Region                                                                   2640 non-null   object \n",
            " 2   Year                                                                            2640 non-null   int64  \n",
            " 3   Sex                                                                             2640 non-null   object \n",
            " 4   Age                                                                             2640 non-null   object \n",
            " 5   Estimated incidence rate of new HIV infection per 1 000 uninfected population   2520 non-null   float64\n",
            " 6   Estimated number of annual AIDS related deaths                                  2580 non-null   float64\n",
            " 7   Estimated number of annual new HIV infections                                   2520 non-null   float64\n",
            " 8   Estimated number of people living with HIV                                      2640 non-null   int64  \n",
            " 9   Estimated rate of annual AIDS related deaths  per 100 000 population            2580 non-null   float64\n",
            "dtypes: float64(4), int64(2), object(4)\n",
            "memory usage: 206.4+ KB\n"
          ]
        }
      ]
    },
    {
      "cell_type": "code",
      "source": [
        "Gender_hiv.duplicated().any()"
      ],
      "metadata": {
        "colab": {
          "base_uri": "https://localhost:8080/"
        },
        "id": "G5osg_5CnWVq",
        "outputId": "5d560178-2ee6-4f17-88c0-d0cc06bbdfc3"
      },
      "execution_count": 4,
      "outputs": [
        {
          "output_type": "execute_result",
          "data": {
            "text/plain": [
              "False"
            ]
          },
          "metadata": {},
          "execution_count": 4
        }
      ]
    },
    {
      "cell_type": "code",
      "source": [
        "Gender_hiv.shape"
      ],
      "metadata": {
        "colab": {
          "base_uri": "https://localhost:8080/"
        },
        "id": "p-9t3Gtfwfa1",
        "outputId": "08a9f46d-2c99-4ba1-e459-fe3c654a9419"
      },
      "execution_count": 5,
      "outputs": [
        {
          "output_type": "execute_result",
          "data": {
            "text/plain": [
              "(2640, 10)"
            ]
          },
          "metadata": {},
          "execution_count": 5
        }
      ]
    },
    {
      "cell_type": "code",
      "source": [
        "Gender_hiv.isnull().sum()"
      ],
      "metadata": {
        "colab": {
          "base_uri": "https://localhost:8080/"
        },
        "id": "42YAOh5PnbOg",
        "outputId": "c75284f3-8634-46be-a816-10bcdeafe39d"
      },
      "execution_count": 6,
      "outputs": [
        {
          "output_type": "execute_result",
          "data": {
            "text/plain": [
              "Country                                                                             0\n",
              "UNICEF Region                                                                       0\n",
              "Year                                                                                0\n",
              "Sex                                                                                 0\n",
              "Age                                                                                 0\n",
              "Estimated incidence rate of new HIV infection per 1 000 uninfected population     120\n",
              "Estimated number of annual AIDS related deaths                                     60\n",
              "Estimated number of annual new HIV infections                                     120\n",
              "Estimated number of people living with HIV                                          0\n",
              "Estimated rate of annual AIDS related deaths  per 100 000 population               60\n",
              "dtype: int64"
            ]
          },
          "metadata": {},
          "execution_count": 6
        }
      ]
    },
    {
      "cell_type": "code",
      "source": [
        "Gender_hiv.isnull().sum().sum()"
      ],
      "metadata": {
        "colab": {
          "base_uri": "https://localhost:8080/"
        },
        "id": "X5TZoSFDw_np",
        "outputId": "bd436df7-3ebf-477a-fc26-64a2a8911b59"
      },
      "execution_count": 7,
      "outputs": [
        {
          "output_type": "execute_result",
          "data": {
            "text/plain": [
              "360"
            ]
          },
          "metadata": {},
          "execution_count": 7
        }
      ]
    },
    {
      "cell_type": "code",
      "source": [
        "## Filling NULL values"
      ],
      "metadata": {
        "id": "ckdTTsY8xY2o"
      },
      "execution_count": 8,
      "outputs": []
    },
    {
      "cell_type": "code",
      "source": [
        "Gender_hiv[Gender_hiv['Estimated incidence rate of new HIV infection per 1 000 uninfected population '].isnull()]"
      ],
      "metadata": {
        "colab": {
          "base_uri": "https://localhost:8080/",
          "height": 1000
        },
        "id": "M408z57unm1a",
        "outputId": "e152e255-866d-4d21-aec3-1afacaced3ec"
      },
      "execution_count": 9,
      "outputs": [
        {
          "output_type": "execute_result",
          "data": {
            "text/html": [
              "\n",
              "  <div id=\"df-47b0759f-8481-4eb6-9e93-945b887dbd5e\">\n",
              "    <div class=\"colab-df-container\">\n",
              "      <div>\n",
              "<style scoped>\n",
              "    .dataframe tbody tr th:only-of-type {\n",
              "        vertical-align: middle;\n",
              "    }\n",
              "\n",
              "    .dataframe tbody tr th {\n",
              "        vertical-align: top;\n",
              "    }\n",
              "\n",
              "    .dataframe thead th {\n",
              "        text-align: right;\n",
              "    }\n",
              "</style>\n",
              "<table border=\"1\" class=\"dataframe\">\n",
              "  <thead>\n",
              "    <tr style=\"text-align: right;\">\n",
              "      <th></th>\n",
              "      <th>Country</th>\n",
              "      <th>UNICEF Region</th>\n",
              "      <th>Year</th>\n",
              "      <th>Sex</th>\n",
              "      <th>Age</th>\n",
              "      <th>Estimated incidence rate of new HIV infection per 1 000 uninfected population</th>\n",
              "      <th>Estimated number of annual AIDS related deaths</th>\n",
              "      <th>Estimated number of annual new HIV infections</th>\n",
              "      <th>Estimated number of people living with HIV</th>\n",
              "      <th>Estimated rate of annual AIDS related deaths  per 100 000 population</th>\n",
              "    </tr>\n",
              "  </thead>\n",
              "  <tbody>\n",
              "    <tr>\n",
              "      <th>1320</th>\n",
              "      <td>Mali</td>\n",
              "      <td>West and Central Africa</td>\n",
              "      <td>1990</td>\n",
              "      <td>Female</td>\n",
              "      <td>Age 10-19</td>\n",
              "      <td>NaN</td>\n",
              "      <td>100.0</td>\n",
              "      <td>NaN</td>\n",
              "      <td>3600</td>\n",
              "      <td>2.22</td>\n",
              "    </tr>\n",
              "    <tr>\n",
              "      <th>1321</th>\n",
              "      <td>Mali</td>\n",
              "      <td>West and Central Africa</td>\n",
              "      <td>1990</td>\n",
              "      <td>Male</td>\n",
              "      <td>Age 10-19</td>\n",
              "      <td>NaN</td>\n",
              "      <td>100.0</td>\n",
              "      <td>NaN</td>\n",
              "      <td>1000</td>\n",
              "      <td>0.69</td>\n",
              "    </tr>\n",
              "    <tr>\n",
              "      <th>1322</th>\n",
              "      <td>Mali</td>\n",
              "      <td>West and Central Africa</td>\n",
              "      <td>1991</td>\n",
              "      <td>Female</td>\n",
              "      <td>Age 10-19</td>\n",
              "      <td>NaN</td>\n",
              "      <td>100.0</td>\n",
              "      <td>NaN</td>\n",
              "      <td>4000</td>\n",
              "      <td>2.55</td>\n",
              "    </tr>\n",
              "    <tr>\n",
              "      <th>1323</th>\n",
              "      <td>Mali</td>\n",
              "      <td>West and Central Africa</td>\n",
              "      <td>1991</td>\n",
              "      <td>Male</td>\n",
              "      <td>Age 10-19</td>\n",
              "      <td>NaN</td>\n",
              "      <td>100.0</td>\n",
              "      <td>NaN</td>\n",
              "      <td>1100</td>\n",
              "      <td>0.76</td>\n",
              "    </tr>\n",
              "    <tr>\n",
              "      <th>1324</th>\n",
              "      <td>Mali</td>\n",
              "      <td>West and Central Africa</td>\n",
              "      <td>1992</td>\n",
              "      <td>Female</td>\n",
              "      <td>Age 10-19</td>\n",
              "      <td>NaN</td>\n",
              "      <td>100.0</td>\n",
              "      <td>NaN</td>\n",
              "      <td>4200</td>\n",
              "      <td>2.86</td>\n",
              "    </tr>\n",
              "    <tr>\n",
              "      <th>...</th>\n",
              "      <td>...</td>\n",
              "      <td>...</td>\n",
              "      <td>...</td>\n",
              "      <td>...</td>\n",
              "      <td>...</td>\n",
              "      <td>...</td>\n",
              "      <td>...</td>\n",
              "      <td>...</td>\n",
              "      <td>...</td>\n",
              "      <td>...</td>\n",
              "    </tr>\n",
              "    <tr>\n",
              "      <th>1495</th>\n",
              "      <td>Mauritania</td>\n",
              "      <td>West and Central Africa</td>\n",
              "      <td>2017</td>\n",
              "      <td>Male</td>\n",
              "      <td>Age 10-19</td>\n",
              "      <td>NaN</td>\n",
              "      <td>100.0</td>\n",
              "      <td>NaN</td>\n",
              "      <td>200</td>\n",
              "      <td>1.66</td>\n",
              "    </tr>\n",
              "    <tr>\n",
              "      <th>1496</th>\n",
              "      <td>Mauritania</td>\n",
              "      <td>West and Central Africa</td>\n",
              "      <td>2018</td>\n",
              "      <td>Female</td>\n",
              "      <td>Age 10-19</td>\n",
              "      <td>NaN</td>\n",
              "      <td>100.0</td>\n",
              "      <td>NaN</td>\n",
              "      <td>200</td>\n",
              "      <td>1.42</td>\n",
              "    </tr>\n",
              "    <tr>\n",
              "      <th>1497</th>\n",
              "      <td>Mauritania</td>\n",
              "      <td>West and Central Africa</td>\n",
              "      <td>2018</td>\n",
              "      <td>Male</td>\n",
              "      <td>Age 10-19</td>\n",
              "      <td>NaN</td>\n",
              "      <td>100.0</td>\n",
              "      <td>NaN</td>\n",
              "      <td>200</td>\n",
              "      <td>1.61</td>\n",
              "    </tr>\n",
              "    <tr>\n",
              "      <th>1498</th>\n",
              "      <td>Mauritania</td>\n",
              "      <td>West and Central Africa</td>\n",
              "      <td>2019</td>\n",
              "      <td>Female</td>\n",
              "      <td>Age 10-19</td>\n",
              "      <td>NaN</td>\n",
              "      <td>100.0</td>\n",
              "      <td>NaN</td>\n",
              "      <td>200</td>\n",
              "      <td>1.38</td>\n",
              "    </tr>\n",
              "    <tr>\n",
              "      <th>1499</th>\n",
              "      <td>Mauritania</td>\n",
              "      <td>West and Central Africa</td>\n",
              "      <td>2019</td>\n",
              "      <td>Male</td>\n",
              "      <td>Age 10-19</td>\n",
              "      <td>NaN</td>\n",
              "      <td>100.0</td>\n",
              "      <td>NaN</td>\n",
              "      <td>200</td>\n",
              "      <td>1.57</td>\n",
              "    </tr>\n",
              "  </tbody>\n",
              "</table>\n",
              "<p>120 rows × 10 columns</p>\n",
              "</div>\n",
              "      <button class=\"colab-df-convert\" onclick=\"convertToInteractive('df-47b0759f-8481-4eb6-9e93-945b887dbd5e')\"\n",
              "              title=\"Convert this dataframe to an interactive table.\"\n",
              "              style=\"display:none;\">\n",
              "        \n",
              "  <svg xmlns=\"http://www.w3.org/2000/svg\" height=\"24px\"viewBox=\"0 0 24 24\"\n",
              "       width=\"24px\">\n",
              "    <path d=\"M0 0h24v24H0V0z\" fill=\"none\"/>\n",
              "    <path d=\"M18.56 5.44l.94 2.06.94-2.06 2.06-.94-2.06-.94-.94-2.06-.94 2.06-2.06.94zm-11 1L8.5 8.5l.94-2.06 2.06-.94-2.06-.94L8.5 2.5l-.94 2.06-2.06.94zm10 10l.94 2.06.94-2.06 2.06-.94-2.06-.94-.94-2.06-.94 2.06-2.06.94z\"/><path d=\"M17.41 7.96l-1.37-1.37c-.4-.4-.92-.59-1.43-.59-.52 0-1.04.2-1.43.59L10.3 9.45l-7.72 7.72c-.78.78-.78 2.05 0 2.83L4 21.41c.39.39.9.59 1.41.59.51 0 1.02-.2 1.41-.59l7.78-7.78 2.81-2.81c.8-.78.8-2.07 0-2.86zM5.41 20L4 18.59l7.72-7.72 1.47 1.35L5.41 20z\"/>\n",
              "  </svg>\n",
              "      </button>\n",
              "      \n",
              "  <style>\n",
              "    .colab-df-container {\n",
              "      display:flex;\n",
              "      flex-wrap:wrap;\n",
              "      gap: 12px;\n",
              "    }\n",
              "\n",
              "    .colab-df-convert {\n",
              "      background-color: #E8F0FE;\n",
              "      border: none;\n",
              "      border-radius: 50%;\n",
              "      cursor: pointer;\n",
              "      display: none;\n",
              "      fill: #1967D2;\n",
              "      height: 32px;\n",
              "      padding: 0 0 0 0;\n",
              "      width: 32px;\n",
              "    }\n",
              "\n",
              "    .colab-df-convert:hover {\n",
              "      background-color: #E2EBFA;\n",
              "      box-shadow: 0px 1px 2px rgba(60, 64, 67, 0.3), 0px 1px 3px 1px rgba(60, 64, 67, 0.15);\n",
              "      fill: #174EA6;\n",
              "    }\n",
              "\n",
              "    [theme=dark] .colab-df-convert {\n",
              "      background-color: #3B4455;\n",
              "      fill: #D2E3FC;\n",
              "    }\n",
              "\n",
              "    [theme=dark] .colab-df-convert:hover {\n",
              "      background-color: #434B5C;\n",
              "      box-shadow: 0px 1px 3px 1px rgba(0, 0, 0, 0.15);\n",
              "      filter: drop-shadow(0px 1px 2px rgba(0, 0, 0, 0.3));\n",
              "      fill: #FFFFFF;\n",
              "    }\n",
              "  </style>\n",
              "\n",
              "      <script>\n",
              "        const buttonEl =\n",
              "          document.querySelector('#df-47b0759f-8481-4eb6-9e93-945b887dbd5e button.colab-df-convert');\n",
              "        buttonEl.style.display =\n",
              "          google.colab.kernel.accessAllowed ? 'block' : 'none';\n",
              "\n",
              "        async function convertToInteractive(key) {\n",
              "          const element = document.querySelector('#df-47b0759f-8481-4eb6-9e93-945b887dbd5e');\n",
              "          const dataTable =\n",
              "            await google.colab.kernel.invokeFunction('convertToInteractive',\n",
              "                                                     [key], {});\n",
              "          if (!dataTable) return;\n",
              "\n",
              "          const docLinkHtml = 'Like what you see? Visit the ' +\n",
              "            '<a target=\"_blank\" href=https://colab.research.google.com/notebooks/data_table.ipynb>data table notebook</a>'\n",
              "            + ' to learn more about interactive tables.';\n",
              "          element.innerHTML = '';\n",
              "          dataTable['output_type'] = 'display_data';\n",
              "          await google.colab.output.renderOutput(dataTable, element);\n",
              "          const docLink = document.createElement('div');\n",
              "          docLink.innerHTML = docLinkHtml;\n",
              "          element.appendChild(docLink);\n",
              "        }\n",
              "      </script>\n",
              "    </div>\n",
              "  </div>\n",
              "  "
            ],
            "text/plain": [
              "         Country  ... Estimated rate of annual AIDS related deaths  per 100 000 population \n",
              "1320        Mali  ...                                               2.22                   \n",
              "1321        Mali  ...                                               0.69                   \n",
              "1322        Mali  ...                                               2.55                   \n",
              "1323        Mali  ...                                               0.76                   \n",
              "1324        Mali  ...                                               2.86                   \n",
              "...          ...  ...                                                ...                   \n",
              "1495  Mauritania  ...                                               1.66                   \n",
              "1496  Mauritania  ...                                               1.42                   \n",
              "1497  Mauritania  ...                                               1.61                   \n",
              "1498  Mauritania  ...                                               1.38                   \n",
              "1499  Mauritania  ...                                               1.57                   \n",
              "\n",
              "[120 rows x 10 columns]"
            ]
          },
          "metadata": {},
          "execution_count": 9
        }
      ]
    },
    {
      "cell_type": "code",
      "source": [
        "## Created a new dataframe to fill Null values, the fillna() for the specific column data restreived the original data from the dataframe?\n",
        "Gender_hiv2 = Gender_hiv.fillna(value=Gender_hiv['Estimated incidence rate of new HIV infection per 1 000 uninfected population '].mean())\n",
        "Gender_hiv2"
      ],
      "metadata": {
        "colab": {
          "base_uri": "https://localhost:8080/",
          "height": 1000
        },
        "id": "qgs7s6gvrwmj",
        "outputId": "a024d487-f474-4d6f-f905-f9840d952f1b"
      },
      "execution_count": 10,
      "outputs": [
        {
          "output_type": "execute_result",
          "data": {
            "text/html": [
              "\n",
              "  <div id=\"df-c5ca1332-94bc-4620-995d-327c5bb84ec9\">\n",
              "    <div class=\"colab-df-container\">\n",
              "      <div>\n",
              "<style scoped>\n",
              "    .dataframe tbody tr th:only-of-type {\n",
              "        vertical-align: middle;\n",
              "    }\n",
              "\n",
              "    .dataframe tbody tr th {\n",
              "        vertical-align: top;\n",
              "    }\n",
              "\n",
              "    .dataframe thead th {\n",
              "        text-align: right;\n",
              "    }\n",
              "</style>\n",
              "<table border=\"1\" class=\"dataframe\">\n",
              "  <thead>\n",
              "    <tr style=\"text-align: right;\">\n",
              "      <th></th>\n",
              "      <th>Country</th>\n",
              "      <th>UNICEF Region</th>\n",
              "      <th>Year</th>\n",
              "      <th>Sex</th>\n",
              "      <th>Age</th>\n",
              "      <th>Estimated incidence rate of new HIV infection per 1 000 uninfected population</th>\n",
              "      <th>Estimated number of annual AIDS related deaths</th>\n",
              "      <th>Estimated number of annual new HIV infections</th>\n",
              "      <th>Estimated number of people living with HIV</th>\n",
              "      <th>Estimated rate of annual AIDS related deaths  per 100 000 population</th>\n",
              "    </tr>\n",
              "  </thead>\n",
              "  <tbody>\n",
              "    <tr>\n",
              "      <th>0</th>\n",
              "      <td>Angola</td>\n",
              "      <td>Eastern and Southern Africa</td>\n",
              "      <td>1990</td>\n",
              "      <td>Female</td>\n",
              "      <td>Age 10-19</td>\n",
              "      <td>0.64</td>\n",
              "      <td>100.0</td>\n",
              "      <td>500.0</td>\n",
              "      <td>860</td>\n",
              "      <td>0.36</td>\n",
              "    </tr>\n",
              "    <tr>\n",
              "      <th>1</th>\n",
              "      <td>Angola</td>\n",
              "      <td>Eastern and Southern Africa</td>\n",
              "      <td>1990</td>\n",
              "      <td>Male</td>\n",
              "      <td>Age 10-19</td>\n",
              "      <td>0.15</td>\n",
              "      <td>100.0</td>\n",
              "      <td>100.0</td>\n",
              "      <td>200</td>\n",
              "      <td>0.07</td>\n",
              "    </tr>\n",
              "    <tr>\n",
              "      <th>2</th>\n",
              "      <td>Angola</td>\n",
              "      <td>Eastern and Southern Africa</td>\n",
              "      <td>1991</td>\n",
              "      <td>Female</td>\n",
              "      <td>Age 10-19</td>\n",
              "      <td>0.75</td>\n",
              "      <td>100.0</td>\n",
              "      <td>500.0</td>\n",
              "      <td>1100</td>\n",
              "      <td>0.42</td>\n",
              "    </tr>\n",
              "    <tr>\n",
              "      <th>3</th>\n",
              "      <td>Angola</td>\n",
              "      <td>Eastern and Southern Africa</td>\n",
              "      <td>1991</td>\n",
              "      <td>Male</td>\n",
              "      <td>Age 10-19</td>\n",
              "      <td>0.17</td>\n",
              "      <td>100.0</td>\n",
              "      <td>200.0</td>\n",
              "      <td>500</td>\n",
              "      <td>0.14</td>\n",
              "    </tr>\n",
              "    <tr>\n",
              "      <th>4</th>\n",
              "      <td>Angola</td>\n",
              "      <td>Eastern and Southern Africa</td>\n",
              "      <td>1992</td>\n",
              "      <td>Female</td>\n",
              "      <td>Age 10-19</td>\n",
              "      <td>0.88</td>\n",
              "      <td>100.0</td>\n",
              "      <td>590.0</td>\n",
              "      <td>1300</td>\n",
              "      <td>0.54</td>\n",
              "    </tr>\n",
              "    <tr>\n",
              "      <th>...</th>\n",
              "      <td>...</td>\n",
              "      <td>...</td>\n",
              "      <td>...</td>\n",
              "      <td>...</td>\n",
              "      <td>...</td>\n",
              "      <td>...</td>\n",
              "      <td>...</td>\n",
              "      <td>...</td>\n",
              "      <td>...</td>\n",
              "      <td>...</td>\n",
              "    </tr>\n",
              "    <tr>\n",
              "      <th>2635</th>\n",
              "      <td>Zimbabwe</td>\n",
              "      <td>Eastern and Southern Africa</td>\n",
              "      <td>2017</td>\n",
              "      <td>Male</td>\n",
              "      <td>Age 10-19</td>\n",
              "      <td>1.66</td>\n",
              "      <td>900.0</td>\n",
              "      <td>1200.0</td>\n",
              "      <td>37000</td>\n",
              "      <td>57.28</td>\n",
              "    </tr>\n",
              "    <tr>\n",
              "      <th>2636</th>\n",
              "      <td>Zimbabwe</td>\n",
              "      <td>Eastern and Southern Africa</td>\n",
              "      <td>2018</td>\n",
              "      <td>Female</td>\n",
              "      <td>Age 10-19</td>\n",
              "      <td>6.05</td>\n",
              "      <td>770.0</td>\n",
              "      <td>4400.0</td>\n",
              "      <td>48000</td>\n",
              "      <td>48.39</td>\n",
              "    </tr>\n",
              "    <tr>\n",
              "      <th>2637</th>\n",
              "      <td>Zimbabwe</td>\n",
              "      <td>Eastern and Southern Africa</td>\n",
              "      <td>2018</td>\n",
              "      <td>Male</td>\n",
              "      <td>Age 10-19</td>\n",
              "      <td>1.46</td>\n",
              "      <td>800.0</td>\n",
              "      <td>1100.0</td>\n",
              "      <td>37000</td>\n",
              "      <td>49.97</td>\n",
              "    </tr>\n",
              "    <tr>\n",
              "      <th>2638</th>\n",
              "      <td>Zimbabwe</td>\n",
              "      <td>Eastern and Southern Africa</td>\n",
              "      <td>2019</td>\n",
              "      <td>Female</td>\n",
              "      <td>Age 10-19</td>\n",
              "      <td>5.99</td>\n",
              "      <td>690.0</td>\n",
              "      <td>4400.0</td>\n",
              "      <td>48000</td>\n",
              "      <td>42.18</td>\n",
              "    </tr>\n",
              "    <tr>\n",
              "      <th>2639</th>\n",
              "      <td>Zimbabwe</td>\n",
              "      <td>Eastern and Southern Africa</td>\n",
              "      <td>2019</td>\n",
              "      <td>Male</td>\n",
              "      <td>Age 10-19</td>\n",
              "      <td>1.43</td>\n",
              "      <td>730.0</td>\n",
              "      <td>1100.0</td>\n",
              "      <td>37000</td>\n",
              "      <td>44.57</td>\n",
              "    </tr>\n",
              "  </tbody>\n",
              "</table>\n",
              "<p>2640 rows × 10 columns</p>\n",
              "</div>\n",
              "      <button class=\"colab-df-convert\" onclick=\"convertToInteractive('df-c5ca1332-94bc-4620-995d-327c5bb84ec9')\"\n",
              "              title=\"Convert this dataframe to an interactive table.\"\n",
              "              style=\"display:none;\">\n",
              "        \n",
              "  <svg xmlns=\"http://www.w3.org/2000/svg\" height=\"24px\"viewBox=\"0 0 24 24\"\n",
              "       width=\"24px\">\n",
              "    <path d=\"M0 0h24v24H0V0z\" fill=\"none\"/>\n",
              "    <path d=\"M18.56 5.44l.94 2.06.94-2.06 2.06-.94-2.06-.94-.94-2.06-.94 2.06-2.06.94zm-11 1L8.5 8.5l.94-2.06 2.06-.94-2.06-.94L8.5 2.5l-.94 2.06-2.06.94zm10 10l.94 2.06.94-2.06 2.06-.94-2.06-.94-.94-2.06-.94 2.06-2.06.94z\"/><path d=\"M17.41 7.96l-1.37-1.37c-.4-.4-.92-.59-1.43-.59-.52 0-1.04.2-1.43.59L10.3 9.45l-7.72 7.72c-.78.78-.78 2.05 0 2.83L4 21.41c.39.39.9.59 1.41.59.51 0 1.02-.2 1.41-.59l7.78-7.78 2.81-2.81c.8-.78.8-2.07 0-2.86zM5.41 20L4 18.59l7.72-7.72 1.47 1.35L5.41 20z\"/>\n",
              "  </svg>\n",
              "      </button>\n",
              "      \n",
              "  <style>\n",
              "    .colab-df-container {\n",
              "      display:flex;\n",
              "      flex-wrap:wrap;\n",
              "      gap: 12px;\n",
              "    }\n",
              "\n",
              "    .colab-df-convert {\n",
              "      background-color: #E8F0FE;\n",
              "      border: none;\n",
              "      border-radius: 50%;\n",
              "      cursor: pointer;\n",
              "      display: none;\n",
              "      fill: #1967D2;\n",
              "      height: 32px;\n",
              "      padding: 0 0 0 0;\n",
              "      width: 32px;\n",
              "    }\n",
              "\n",
              "    .colab-df-convert:hover {\n",
              "      background-color: #E2EBFA;\n",
              "      box-shadow: 0px 1px 2px rgba(60, 64, 67, 0.3), 0px 1px 3px 1px rgba(60, 64, 67, 0.15);\n",
              "      fill: #174EA6;\n",
              "    }\n",
              "\n",
              "    [theme=dark] .colab-df-convert {\n",
              "      background-color: #3B4455;\n",
              "      fill: #D2E3FC;\n",
              "    }\n",
              "\n",
              "    [theme=dark] .colab-df-convert:hover {\n",
              "      background-color: #434B5C;\n",
              "      box-shadow: 0px 1px 3px 1px rgba(0, 0, 0, 0.15);\n",
              "      filter: drop-shadow(0px 1px 2px rgba(0, 0, 0, 0.3));\n",
              "      fill: #FFFFFF;\n",
              "    }\n",
              "  </style>\n",
              "\n",
              "      <script>\n",
              "        const buttonEl =\n",
              "          document.querySelector('#df-c5ca1332-94bc-4620-995d-327c5bb84ec9 button.colab-df-convert');\n",
              "        buttonEl.style.display =\n",
              "          google.colab.kernel.accessAllowed ? 'block' : 'none';\n",
              "\n",
              "        async function convertToInteractive(key) {\n",
              "          const element = document.querySelector('#df-c5ca1332-94bc-4620-995d-327c5bb84ec9');\n",
              "          const dataTable =\n",
              "            await google.colab.kernel.invokeFunction('convertToInteractive',\n",
              "                                                     [key], {});\n",
              "          if (!dataTable) return;\n",
              "\n",
              "          const docLinkHtml = 'Like what you see? Visit the ' +\n",
              "            '<a target=\"_blank\" href=https://colab.research.google.com/notebooks/data_table.ipynb>data table notebook</a>'\n",
              "            + ' to learn more about interactive tables.';\n",
              "          element.innerHTML = '';\n",
              "          dataTable['output_type'] = 'display_data';\n",
              "          await google.colab.output.renderOutput(dataTable, element);\n",
              "          const docLink = document.createElement('div');\n",
              "          docLink.innerHTML = docLinkHtml;\n",
              "          element.appendChild(docLink);\n",
              "        }\n",
              "      </script>\n",
              "    </div>\n",
              "  </div>\n",
              "  "
            ],
            "text/plain": [
              "       Country  ... Estimated rate of annual AIDS related deaths  per 100 000 population \n",
              "0       Angola  ...                                               0.36                   \n",
              "1       Angola  ...                                               0.07                   \n",
              "2       Angola  ...                                               0.42                   \n",
              "3       Angola  ...                                               0.14                   \n",
              "4       Angola  ...                                               0.54                   \n",
              "...        ...  ...                                                ...                   \n",
              "2635  Zimbabwe  ...                                              57.28                   \n",
              "2636  Zimbabwe  ...                                              48.39                   \n",
              "2637  Zimbabwe  ...                                              49.97                   \n",
              "2638  Zimbabwe  ...                                              42.18                   \n",
              "2639  Zimbabwe  ...                                              44.57                   \n",
              "\n",
              "[2640 rows x 10 columns]"
            ]
          },
          "metadata": {},
          "execution_count": 10
        }
      ]
    },
    {
      "cell_type": "code",
      "source": [
        "Gender_hiv2.isnull().sum()"
      ],
      "metadata": {
        "colab": {
          "base_uri": "https://localhost:8080/"
        },
        "id": "OaYZB_ZK5Om1",
        "outputId": "43fb2038-c90b-4da5-ec91-22d5553afc66"
      },
      "execution_count": 11,
      "outputs": [
        {
          "output_type": "execute_result",
          "data": {
            "text/plain": [
              "Country                                                                           0\n",
              "UNICEF Region                                                                     0\n",
              "Year                                                                              0\n",
              "Sex                                                                               0\n",
              "Age                                                                               0\n",
              "Estimated incidence rate of new HIV infection per 1 000 uninfected population     0\n",
              "Estimated number of annual AIDS related deaths                                    0\n",
              "Estimated number of annual new HIV infections                                     0\n",
              "Estimated number of people living with HIV                                        0\n",
              "Estimated rate of annual AIDS related deaths  per 100 000 population              0\n",
              "dtype: int64"
            ]
          },
          "metadata": {},
          "execution_count": 11
        }
      ]
    },
    {
      "cell_type": "code",
      "source": [
        "Gender_hiv2.describe()"
      ],
      "metadata": {
        "colab": {
          "base_uri": "https://localhost:8080/",
          "height": 396
        },
        "id": "BRoFxkpn6UGA",
        "outputId": "a74e59c8-52d9-4226-c2a2-85a507fd9b49"
      },
      "execution_count": 12,
      "outputs": [
        {
          "output_type": "execute_result",
          "data": {
            "text/html": [
              "\n",
              "  <div id=\"df-14922535-126d-4838-a861-b74e4bd84256\">\n",
              "    <div class=\"colab-df-container\">\n",
              "      <div>\n",
              "<style scoped>\n",
              "    .dataframe tbody tr th:only-of-type {\n",
              "        vertical-align: middle;\n",
              "    }\n",
              "\n",
              "    .dataframe tbody tr th {\n",
              "        vertical-align: top;\n",
              "    }\n",
              "\n",
              "    .dataframe thead th {\n",
              "        text-align: right;\n",
              "    }\n",
              "</style>\n",
              "<table border=\"1\" class=\"dataframe\">\n",
              "  <thead>\n",
              "    <tr style=\"text-align: right;\">\n",
              "      <th></th>\n",
              "      <th>Year</th>\n",
              "      <th>Estimated incidence rate of new HIV infection per 1 000 uninfected population</th>\n",
              "      <th>Estimated number of annual AIDS related deaths</th>\n",
              "      <th>Estimated number of annual new HIV infections</th>\n",
              "      <th>Estimated number of people living with HIV</th>\n",
              "      <th>Estimated rate of annual AIDS related deaths  per 100 000 population</th>\n",
              "    </tr>\n",
              "  </thead>\n",
              "  <tbody>\n",
              "    <tr>\n",
              "      <th>count</th>\n",
              "      <td>2640.000000</td>\n",
              "      <td>2640.000000</td>\n",
              "      <td>2640.000000</td>\n",
              "      <td>2640.000000</td>\n",
              "      <td>2640.000000</td>\n",
              "      <td>2640.000000</td>\n",
              "    </tr>\n",
              "    <tr>\n",
              "      <th>mean</th>\n",
              "      <td>2004.500000</td>\n",
              "      <td>3.751397</td>\n",
              "      <td>383.126926</td>\n",
              "      <td>2651.234912</td>\n",
              "      <td>13023.984848</td>\n",
              "      <td>16.414229</td>\n",
              "    </tr>\n",
              "    <tr>\n",
              "      <th>std</th>\n",
              "      <td>8.657081</td>\n",
              "      <td>7.484338</td>\n",
              "      <td>515.121572</td>\n",
              "      <td>7502.647664</td>\n",
              "      <td>27010.089271</td>\n",
              "      <td>21.335070</td>\n",
              "    </tr>\n",
              "    <tr>\n",
              "      <th>min</th>\n",
              "      <td>1990.000000</td>\n",
              "      <td>0.010000</td>\n",
              "      <td>3.751397</td>\n",
              "      <td>3.751397</td>\n",
              "      <td>100.000000</td>\n",
              "      <td>0.010000</td>\n",
              "    </tr>\n",
              "    <tr>\n",
              "      <th>25%</th>\n",
              "      <td>1997.000000</td>\n",
              "      <td>0.350000</td>\n",
              "      <td>100.000000</td>\n",
              "      <td>100.000000</td>\n",
              "      <td>630.000000</td>\n",
              "      <td>2.407500</td>\n",
              "    </tr>\n",
              "    <tr>\n",
              "      <th>50%</th>\n",
              "      <td>2004.500000</td>\n",
              "      <td>1.310000</td>\n",
              "      <td>100.000000</td>\n",
              "      <td>500.000000</td>\n",
              "      <td>3300.000000</td>\n",
              "      <td>8.600000</td>\n",
              "    </tr>\n",
              "    <tr>\n",
              "      <th>75%</th>\n",
              "      <td>2012.000000</td>\n",
              "      <td>3.751397</td>\n",
              "      <td>500.000000</td>\n",
              "      <td>1900.000000</td>\n",
              "      <td>13000.000000</td>\n",
              "      <td>21.075000</td>\n",
              "    </tr>\n",
              "    <tr>\n",
              "      <th>max</th>\n",
              "      <td>2019.000000</td>\n",
              "      <td>70.630000</td>\n",
              "      <td>3500.000000</td>\n",
              "      <td>90000.000000</td>\n",
              "      <td>250000.000000</td>\n",
              "      <td>138.240000</td>\n",
              "    </tr>\n",
              "  </tbody>\n",
              "</table>\n",
              "</div>\n",
              "      <button class=\"colab-df-convert\" onclick=\"convertToInteractive('df-14922535-126d-4838-a861-b74e4bd84256')\"\n",
              "              title=\"Convert this dataframe to an interactive table.\"\n",
              "              style=\"display:none;\">\n",
              "        \n",
              "  <svg xmlns=\"http://www.w3.org/2000/svg\" height=\"24px\"viewBox=\"0 0 24 24\"\n",
              "       width=\"24px\">\n",
              "    <path d=\"M0 0h24v24H0V0z\" fill=\"none\"/>\n",
              "    <path d=\"M18.56 5.44l.94 2.06.94-2.06 2.06-.94-2.06-.94-.94-2.06-.94 2.06-2.06.94zm-11 1L8.5 8.5l.94-2.06 2.06-.94-2.06-.94L8.5 2.5l-.94 2.06-2.06.94zm10 10l.94 2.06.94-2.06 2.06-.94-2.06-.94-.94-2.06-.94 2.06-2.06.94z\"/><path d=\"M17.41 7.96l-1.37-1.37c-.4-.4-.92-.59-1.43-.59-.52 0-1.04.2-1.43.59L10.3 9.45l-7.72 7.72c-.78.78-.78 2.05 0 2.83L4 21.41c.39.39.9.59 1.41.59.51 0 1.02-.2 1.41-.59l7.78-7.78 2.81-2.81c.8-.78.8-2.07 0-2.86zM5.41 20L4 18.59l7.72-7.72 1.47 1.35L5.41 20z\"/>\n",
              "  </svg>\n",
              "      </button>\n",
              "      \n",
              "  <style>\n",
              "    .colab-df-container {\n",
              "      display:flex;\n",
              "      flex-wrap:wrap;\n",
              "      gap: 12px;\n",
              "    }\n",
              "\n",
              "    .colab-df-convert {\n",
              "      background-color: #E8F0FE;\n",
              "      border: none;\n",
              "      border-radius: 50%;\n",
              "      cursor: pointer;\n",
              "      display: none;\n",
              "      fill: #1967D2;\n",
              "      height: 32px;\n",
              "      padding: 0 0 0 0;\n",
              "      width: 32px;\n",
              "    }\n",
              "\n",
              "    .colab-df-convert:hover {\n",
              "      background-color: #E2EBFA;\n",
              "      box-shadow: 0px 1px 2px rgba(60, 64, 67, 0.3), 0px 1px 3px 1px rgba(60, 64, 67, 0.15);\n",
              "      fill: #174EA6;\n",
              "    }\n",
              "\n",
              "    [theme=dark] .colab-df-convert {\n",
              "      background-color: #3B4455;\n",
              "      fill: #D2E3FC;\n",
              "    }\n",
              "\n",
              "    [theme=dark] .colab-df-convert:hover {\n",
              "      background-color: #434B5C;\n",
              "      box-shadow: 0px 1px 3px 1px rgba(0, 0, 0, 0.15);\n",
              "      filter: drop-shadow(0px 1px 2px rgba(0, 0, 0, 0.3));\n",
              "      fill: #FFFFFF;\n",
              "    }\n",
              "  </style>\n",
              "\n",
              "      <script>\n",
              "        const buttonEl =\n",
              "          document.querySelector('#df-14922535-126d-4838-a861-b74e4bd84256 button.colab-df-convert');\n",
              "        buttonEl.style.display =\n",
              "          google.colab.kernel.accessAllowed ? 'block' : 'none';\n",
              "\n",
              "        async function convertToInteractive(key) {\n",
              "          const element = document.querySelector('#df-14922535-126d-4838-a861-b74e4bd84256');\n",
              "          const dataTable =\n",
              "            await google.colab.kernel.invokeFunction('convertToInteractive',\n",
              "                                                     [key], {});\n",
              "          if (!dataTable) return;\n",
              "\n",
              "          const docLinkHtml = 'Like what you see? Visit the ' +\n",
              "            '<a target=\"_blank\" href=https://colab.research.google.com/notebooks/data_table.ipynb>data table notebook</a>'\n",
              "            + ' to learn more about interactive tables.';\n",
              "          element.innerHTML = '';\n",
              "          dataTable['output_type'] = 'display_data';\n",
              "          await google.colab.output.renderOutput(dataTable, element);\n",
              "          const docLink = document.createElement('div');\n",
              "          docLink.innerHTML = docLinkHtml;\n",
              "          element.appendChild(docLink);\n",
              "        }\n",
              "      </script>\n",
              "    </div>\n",
              "  </div>\n",
              "  "
            ],
            "text/plain": [
              "              Year  ...  Estimated rate of annual AIDS related deaths  per 100 000 population \n",
              "count  2640.000000  ...                                        2640.000000                    \n",
              "mean   2004.500000  ...                                          16.414229                    \n",
              "std       8.657081  ...                                          21.335070                    \n",
              "min    1990.000000  ...                                           0.010000                    \n",
              "25%    1997.000000  ...                                           2.407500                    \n",
              "50%    2004.500000  ...                                           8.600000                    \n",
              "75%    2012.000000  ...                                          21.075000                    \n",
              "max    2019.000000  ...                                         138.240000                    \n",
              "\n",
              "[8 rows x 6 columns]"
            ]
          },
          "metadata": {},
          "execution_count": 12
        }
      ]
    },
    {
      "cell_type": "code",
      "source": [
        "## After reviewing the dataframe I'll further analyze and get counts of specific counts of column data\n",
        "Gender_hiv2.dtypes"
      ],
      "metadata": {
        "colab": {
          "base_uri": "https://localhost:8080/"
        },
        "id": "PiCZ_Y9__UhT",
        "outputId": "a8aa7f52-c3a1-4ea7-e43f-9c7b9aba9919"
      },
      "execution_count": 13,
      "outputs": [
        {
          "output_type": "execute_result",
          "data": {
            "text/plain": [
              "Country                                                                            object\n",
              "UNICEF Region                                                                      object\n",
              "Year                                                                                int64\n",
              "Sex                                                                                object\n",
              "Age                                                                                object\n",
              "Estimated incidence rate of new HIV infection per 1 000 uninfected population     float64\n",
              "Estimated number of annual AIDS related deaths                                    float64\n",
              "Estimated number of annual new HIV infections                                     float64\n",
              "Estimated number of people living with HIV                                          int64\n",
              "Estimated rate of annual AIDS related deaths  per 100 000 population              float64\n",
              "dtype: object"
            ]
          },
          "metadata": {},
          "execution_count": 13
        }
      ]
    },
    {
      "cell_type": "code",
      "source": [
        "## Number of countries\n",
        "Gender_hiv2['Country'].nunique()"
      ],
      "metadata": {
        "colab": {
          "base_uri": "https://localhost:8080/"
        },
        "id": "0xbTvu9P_Xw0",
        "outputId": "26f5ebfd-a860-4f17-9b27-0c9ccd722630"
      },
      "execution_count": 14,
      "outputs": [
        {
          "output_type": "execute_result",
          "data": {
            "text/plain": [
              "44"
            ]
          },
          "metadata": {},
          "execution_count": 14
        }
      ]
    },
    {
      "cell_type": "code",
      "source": [
        "## By Unicef regions\n",
        "Gender_hiv2['UNICEF Region'].value_counts()"
      ],
      "metadata": {
        "colab": {
          "base_uri": "https://localhost:8080/"
        },
        "id": "koYu1AiKFSWe",
        "outputId": "58e3ad45-cc11-4158-e146-2c1de92e013d"
      },
      "execution_count": 15,
      "outputs": [
        {
          "output_type": "execute_result",
          "data": {
            "text/plain": [
              "Eastern and Southern Africa    1320\n",
              "West and Central Africa        1320\n",
              "Name: UNICEF Region, dtype: int64"
            ]
          },
          "metadata": {},
          "execution_count": 15
        }
      ]
    },
    {
      "cell_type": "code",
      "source": [
        "## Number of years\n",
        "Gender_hiv2['Year'].value_counts().sort_index()"
      ],
      "metadata": {
        "colab": {
          "base_uri": "https://localhost:8080/"
        },
        "id": "SAfqHaSpEUl7",
        "outputId": "7ea14879-2d15-49a0-c0d6-6b2cb8e975f6"
      },
      "execution_count": 16,
      "outputs": [
        {
          "output_type": "execute_result",
          "data": {
            "text/plain": [
              "1990    88\n",
              "1991    88\n",
              "1992    88\n",
              "1993    88\n",
              "1994    88\n",
              "1995    88\n",
              "1996    88\n",
              "1997    88\n",
              "1998    88\n",
              "1999    88\n",
              "2000    88\n",
              "2001    88\n",
              "2002    88\n",
              "2003    88\n",
              "2004    88\n",
              "2005    88\n",
              "2006    88\n",
              "2007    88\n",
              "2008    88\n",
              "2009    88\n",
              "2010    88\n",
              "2011    88\n",
              "2012    88\n",
              "2013    88\n",
              "2014    88\n",
              "2015    88\n",
              "2016    88\n",
              "2017    88\n",
              "2018    88\n",
              "2019    88\n",
              "Name: Year, dtype: int64"
            ]
          },
          "metadata": {},
          "execution_count": 16
        }
      ]
    },
    {
      "cell_type": "code",
      "source": [
        "## We can see the data reported for each gender\n",
        "Gender_hiv2['Sex'].value_counts()"
      ],
      "metadata": {
        "colab": {
          "base_uri": "https://localhost:8080/"
        },
        "id": "mwMQx96BE1N1",
        "outputId": "09685ff4-1651-4dbd-da9a-4f0049399930"
      },
      "execution_count": 17,
      "outputs": [
        {
          "output_type": "execute_result",
          "data": {
            "text/plain": [
              "Female    1320\n",
              "Male      1320\n",
              "Name: Sex, dtype: int64"
            ]
          },
          "metadata": {},
          "execution_count": 17
        }
      ]
    },
    {
      "cell_type": "code",
      "source": [
        "corr = Gender_hiv2.corr()\n",
        "\n",
        "import seaborn as sns\n",
        "\n",
        "plt.figure(figsize=(10,8))\n",
        "sns.heatmap(corr, cmap = 'Greens', annot = True)"
      ],
      "metadata": {
        "colab": {
          "base_uri": "https://localhost:8080/",
          "height": 889
        },
        "id": "hTh0wRagyAu9",
        "outputId": "15034251-3093-4aa0-c62d-19a848dfb651"
      },
      "execution_count": 18,
      "outputs": [
        {
          "output_type": "execute_result",
          "data": {
            "text/plain": [
              "<matplotlib.axes._subplots.AxesSubplot at 0x7f28af529350>"
            ]
          },
          "metadata": {},
          "execution_count": 18
        },
        {
          "output_type": "display_data",
          "data": {
            "image/png": "[encoded data removed]",
            "text/plain": [
              "<Figure size 720x576 with 2 Axes>"
            ]
          },
          "metadata": {
            "needs_background": "light"
          }
        }
      ]
    },
    {
      "cell_type": "code",
      "source": [
        "Gender_hiv3 = Gender_hiv2['Year'].to_numpy(), Gender_hiv2.set_index('Year')\n",
        "Gender_hiv3"
      ],
      "metadata": {
        "colab": {
          "base_uri": "https://localhost:8080/"
        },
        "id": "kSQrysZ3QrYl",
        "outputId": "43faa93b-96c0-4895-b9c9-950ae560e135"
      },
      "execution_count": 19,
      "outputs": [
        {
          "output_type": "execute_result",
          "data": {
            "text/plain": [
              "(array([1990, 1990, 1991, ..., 2018, 2019, 2019]),\n",
              "        Country  ... Estimated rate of annual AIDS related deaths  per 100 000 population \n",
              " Year            ...                                                                      \n",
              " 1990    Angola  ...                                               0.36                   \n",
              " 1990    Angola  ...                                               0.07                   \n",
              " 1991    Angola  ...                                               0.42                   \n",
              " 1991    Angola  ...                                               0.14                   \n",
              " 1992    Angola  ...                                               0.54                   \n",
              " ...        ...  ...                                                ...                   \n",
              " 2017  Zimbabwe  ...                                              57.28                   \n",
              " 2018  Zimbabwe  ...                                              48.39                   \n",
              " 2018  Zimbabwe  ...                                              49.97                   \n",
              " 2019  Zimbabwe  ...                                              42.18                   \n",
              " 2019  Zimbabwe  ...                                              44.57                   \n",
              " \n",
              " [2640 rows x 9 columns])"
            ]
          },
          "metadata": {},
          "execution_count": 19
        }
      ]
    },
    {
      "cell_type": "code",
      "source": [
        "New_living_peranum = Gender_hiv2.groupby(['Year'])[['Estimated number of people living with HIV', 'Estimated number of annual new HIV infections']].mean()\n",
        "New_living_peranum\n",
        "## The estimated new HIV infection rates steadily declined from 1998 where they peaked at 3330.738700."
      ],
      "metadata": {
        "colab": {
          "base_uri": "https://localhost:8080/",
          "height": 1000
        },
        "id": "e8hL_k9Af-vz",
        "outputId": "50dfd804-b5fc-43ba-e634-5542b7eb82ed"
      },
      "execution_count": 20,
      "outputs": [
        {
          "output_type": "execute_result",
          "data": {
            "text/html": [
              "\n",
              "  <div id=\"df-b2066a0e-2994-46f1-a173-d67472fac56e\">\n",
              "    <div class=\"colab-df-container\">\n",
              "      <div>\n",
              "<style scoped>\n",
              "    .dataframe tbody tr th:only-of-type {\n",
              "        vertical-align: middle;\n",
              "    }\n",
              "\n",
              "    .dataframe tbody tr th {\n",
              "        vertical-align: top;\n",
              "    }\n",
              "\n",
              "    .dataframe thead th {\n",
              "        text-align: right;\n",
              "    }\n",
              "</style>\n",
              "<table border=\"1\" class=\"dataframe\">\n",
              "  <thead>\n",
              "    <tr style=\"text-align: right;\">\n",
              "      <th></th>\n",
              "      <th>Estimated number of people living with HIV</th>\n",
              "      <th>Estimated number of annual new HIV infections</th>\n",
              "    </tr>\n",
              "    <tr>\n",
              "      <th>Year</th>\n",
              "      <th></th>\n",
              "      <th></th>\n",
              "    </tr>\n",
              "  </thead>\n",
              "  <tbody>\n",
              "    <tr>\n",
              "      <th>1990</th>\n",
              "      <td>4958.068182</td>\n",
              "      <td>2276.079609</td>\n",
              "    </tr>\n",
              "    <tr>\n",
              "      <th>1991</th>\n",
              "      <td>5847.386364</td>\n",
              "      <td>2570.511427</td>\n",
              "    </tr>\n",
              "    <tr>\n",
              "      <th>1992</th>\n",
              "      <td>6696.477273</td>\n",
              "      <td>2845.170518</td>\n",
              "    </tr>\n",
              "    <tr>\n",
              "      <th>1993</th>\n",
              "      <td>7465.454545</td>\n",
              "      <td>3047.556882</td>\n",
              "    </tr>\n",
              "    <tr>\n",
              "      <th>1994</th>\n",
              "      <td>8219.772727</td>\n",
              "      <td>3194.829609</td>\n",
              "    </tr>\n",
              "    <tr>\n",
              "      <th>1995</th>\n",
              "      <td>8769.886364</td>\n",
              "      <td>3293.920518</td>\n",
              "    </tr>\n",
              "    <tr>\n",
              "      <th>1996</th>\n",
              "      <td>9277.386364</td>\n",
              "      <td>3328.693245</td>\n",
              "    </tr>\n",
              "    <tr>\n",
              "      <th>1997</th>\n",
              "      <td>9800.000000</td>\n",
              "      <td>3330.625063</td>\n",
              "    </tr>\n",
              "    <tr>\n",
              "      <th>1998</th>\n",
              "      <td>10250.340909</td>\n",
              "      <td>3330.738700</td>\n",
              "    </tr>\n",
              "    <tr>\n",
              "      <th>1999</th>\n",
              "      <td>10738.636364</td>\n",
              "      <td>3299.375063</td>\n",
              "    </tr>\n",
              "    <tr>\n",
              "      <th>2000</th>\n",
              "      <td>11356.250000</td>\n",
              "      <td>3256.420518</td>\n",
              "    </tr>\n",
              "    <tr>\n",
              "      <th>2001</th>\n",
              "      <td>11905.340909</td>\n",
              "      <td>3183.352336</td>\n",
              "    </tr>\n",
              "    <tr>\n",
              "      <th>2002</th>\n",
              "      <td>12368.863636</td>\n",
              "      <td>3109.147791</td>\n",
              "    </tr>\n",
              "    <tr>\n",
              "      <th>2003</th>\n",
              "      <td>12860.681818</td>\n",
              "      <td>2993.579609</td>\n",
              "    </tr>\n",
              "    <tr>\n",
              "      <th>2004</th>\n",
              "      <td>13409.772727</td>\n",
              "      <td>2893.806882</td>\n",
              "    </tr>\n",
              "    <tr>\n",
              "      <th>2005</th>\n",
              "      <td>13996.022727</td>\n",
              "      <td>2792.443245</td>\n",
              "    </tr>\n",
              "    <tr>\n",
              "      <th>2006</th>\n",
              "      <td>14487.840909</td>\n",
              "      <td>2733.011427</td>\n",
              "    </tr>\n",
              "    <tr>\n",
              "      <th>2007</th>\n",
              "      <td>15073.977273</td>\n",
              "      <td>2668.693245</td>\n",
              "    </tr>\n",
              "    <tr>\n",
              "      <th>2008</th>\n",
              "      <td>15520.227273</td>\n",
              "      <td>2611.761427</td>\n",
              "    </tr>\n",
              "    <tr>\n",
              "      <th>2009</th>\n",
              "      <td>16082.045455</td>\n",
              "      <td>2557.102336</td>\n",
              "    </tr>\n",
              "    <tr>\n",
              "      <th>2010</th>\n",
              "      <td>16550.795455</td>\n",
              "      <td>2469.829609</td>\n",
              "    </tr>\n",
              "    <tr>\n",
              "      <th>2011</th>\n",
              "      <td>16780.681818</td>\n",
              "      <td>2362.784154</td>\n",
              "    </tr>\n",
              "    <tr>\n",
              "      <th>2012</th>\n",
              "      <td>17089.772727</td>\n",
              "      <td>2289.602336</td>\n",
              "    </tr>\n",
              "    <tr>\n",
              "      <th>2013</th>\n",
              "      <td>17277.840909</td>\n",
              "      <td>2182.784154</td>\n",
              "    </tr>\n",
              "    <tr>\n",
              "      <th>2014</th>\n",
              "      <td>17257.500000</td>\n",
              "      <td>2077.329609</td>\n",
              "    </tr>\n",
              "    <tr>\n",
              "      <th>2015</th>\n",
              "      <td>17411.590909</td>\n",
              "      <td>1971.306882</td>\n",
              "    </tr>\n",
              "    <tr>\n",
              "      <th>2016</th>\n",
              "      <td>17345.454545</td>\n",
              "      <td>1871.761427</td>\n",
              "    </tr>\n",
              "    <tr>\n",
              "      <th>2017</th>\n",
              "      <td>17324.545455</td>\n",
              "      <td>1765.170518</td>\n",
              "    </tr>\n",
              "    <tr>\n",
              "      <th>2018</th>\n",
              "      <td>17280.454545</td>\n",
              "      <td>1652.670518</td>\n",
              "    </tr>\n",
              "    <tr>\n",
              "      <th>2019</th>\n",
              "      <td>17316.477273</td>\n",
              "      <td>1576.988700</td>\n",
              "    </tr>\n",
              "  </tbody>\n",
              "</table>\n",
              "</div>\n",
              "      <button class=\"colab-df-convert\" onclick=\"convertToInteractive('df-b2066a0e-2994-46f1-a173-d67472fac56e')\"\n",
              "              title=\"Convert this dataframe to an interactive table.\"\n",
              "              style=\"display:none;\">\n",
              "        \n",
              "  <svg xmlns=\"http://www.w3.org/2000/svg\" height=\"24px\"viewBox=\"0 0 24 24\"\n",
              "       width=\"24px\">\n",
              "    <path d=\"M0 0h24v24H0V0z\" fill=\"none\"/>\n",
              "    <path d=\"M18.56 5.44l.94 2.06.94-2.06 2.06-.94-2.06-.94-.94-2.06-.94 2.06-2.06.94zm-11 1L8.5 8.5l.94-2.06 2.06-.94-2.06-.94L8.5 2.5l-.94 2.06-2.06.94zm10 10l.94 2.06.94-2.06 2.06-.94-2.06-.94-.94-2.06-.94 2.06-2.06.94z\"/><path d=\"M17.41 7.96l-1.37-1.37c-.4-.4-.92-.59-1.43-.59-.52 0-1.04.2-1.43.59L10.3 9.45l-7.72 7.72c-.78.78-.78 2.05 0 2.83L4 21.41c.39.39.9.59 1.41.59.51 0 1.02-.2 1.41-.59l7.78-7.78 2.81-2.81c.8-.78.8-2.07 0-2.86zM5.41 20L4 18.59l7.72-7.72 1.47 1.35L5.41 20z\"/>\n",
              "  </svg>\n",
              "      </button>\n",
              "      \n",
              "  <style>\n",
              "    .colab-df-container {\n",
              "      display:flex;\n",
              "      flex-wrap:wrap;\n",
              "      gap: 12px;\n",
              "    }\n",
              "\n",
              "    .colab-df-convert {\n",
              "      background-color: #E8F0FE;\n",
              "      border: none;\n",
              "      border-radius: 50%;\n",
              "      cursor: pointer;\n",
              "      display: none;\n",
              "      fill: #1967D2;\n",
              "      height: 32px;\n",
              "      padding: 0 0 0 0;\n",
              "      width: 32px;\n",
              "    }\n",
              "\n",
              "    .colab-df-convert:hover {\n",
              "      background-color: #E2EBFA;\n",
              "      box-shadow: 0px 1px 2px rgba(60, 64, 67, 0.3), 0px 1px 3px 1px rgba(60, 64, 67, 0.15);\n",
              "      fill: #174EA6;\n",
              "    }\n",
              "\n",
              "    [theme=dark] .colab-df-convert {\n",
              "      background-color: #3B4455;\n",
              "      fill: #D2E3FC;\n",
              "    }\n",
              "\n",
              "    [theme=dark] .colab-df-convert:hover {\n",
              "      background-color: #434B5C;\n",
              "      box-shadow: 0px 1px 3px 1px rgba(0, 0, 0, 0.15);\n",
              "      filter: drop-shadow(0px 1px 2px rgba(0, 0, 0, 0.3));\n",
              "      fill: #FFFFFF;\n",
              "    }\n",
              "  </style>\n",
              "\n",
              "      <script>\n",
              "        const buttonEl =\n",
              "          document.querySelector('#df-b2066a0e-2994-46f1-a173-d67472fac56e button.colab-df-convert');\n",
              "        buttonEl.style.display =\n",
              "          google.colab.kernel.accessAllowed ? 'block' : 'none';\n",
              "\n",
              "        async function convertToInteractive(key) {\n",
              "          const element = document.querySelector('#df-b2066a0e-2994-46f1-a173-d67472fac56e');\n",
              "          const dataTable =\n",
              "            await google.colab.kernel.invokeFunction('convertToInteractive',\n",
              "                                                     [key], {});\n",
              "          if (!dataTable) return;\n",
              "\n",
              "          const docLinkHtml = 'Like what you see? Visit the ' +\n",
              "            '<a target=\"_blank\" href=https://colab.research.google.com/notebooks/data_table.ipynb>data table notebook</a>'\n",
              "            + ' to learn more about interactive tables.';\n",
              "          element.innerHTML = '';\n",
              "          dataTable['output_type'] = 'display_data';\n",
              "          await google.colab.output.renderOutput(dataTable, element);\n",
              "          const docLink = document.createElement('div');\n",
              "          docLink.innerHTML = docLinkHtml;\n",
              "          element.appendChild(docLink);\n",
              "        }\n",
              "      </script>\n",
              "    </div>\n",
              "  </div>\n",
              "  "
            ],
            "text/plain": [
              "      Estimated number of people living with HIV  Estimated number of annual new HIV infections\n",
              "Year                                                                                           \n",
              "1990                                 4958.068182                                    2276.079609\n",
              "1991                                 5847.386364                                    2570.511427\n",
              "1992                                 6696.477273                                    2845.170518\n",
              "1993                                 7465.454545                                    3047.556882\n",
              "1994                                 8219.772727                                    3194.829609\n",
              "1995                                 8769.886364                                    3293.920518\n",
              "1996                                 9277.386364                                    3328.693245\n",
              "1997                                 9800.000000                                    3330.625063\n",
              "1998                                10250.340909                                    3330.738700\n",
              "1999                                10738.636364                                    3299.375063\n",
              "2000                                11356.250000                                    3256.420518\n",
              "2001                                11905.340909                                    3183.352336\n",
              "2002                                12368.863636                                    3109.147791\n",
              "2003                                12860.681818                                    2993.579609\n",
              "2004                                13409.772727                                    2893.806882\n",
              "2005                                13996.022727                                    2792.443245\n",
              "2006                                14487.840909                                    2733.011427\n",
              "2007                                15073.977273                                    2668.693245\n",
              "2008                                15520.227273                                    2611.761427\n",
              "2009                                16082.045455                                    2557.102336\n",
              "2010                                16550.795455                                    2469.829609\n",
              "2011                                16780.681818                                    2362.784154\n",
              "2012                                17089.772727                                    2289.602336\n",
              "2013                                17277.840909                                    2182.784154\n",
              "2014                                17257.500000                                    2077.329609\n",
              "2015                                17411.590909                                    1971.306882\n",
              "2016                                17345.454545                                    1871.761427\n",
              "2017                                17324.545455                                    1765.170518\n",
              "2018                                17280.454545                                    1652.670518\n",
              "2019                                17316.477273                                    1576.988700"
            ]
          },
          "metadata": {},
          "execution_count": 20
        }
      ]
    },
    {
      "cell_type": "code",
      "source": [
        "living_with = Gender_hiv2.groupby(['Year'])['Estimated number of people living with HIV'].mean()\n",
        "living_with"
      ],
      "metadata": {
        "colab": {
          "base_uri": "https://localhost:8080/"
        },
        "id": "7bMXew4q6SH1",
        "outputId": "16c7a457-b4bc-4472-a85a-bca275efe1bb"
      },
      "execution_count": 21,
      "outputs": [
        {
          "output_type": "execute_result",
          "data": {
            "text/plain": [
              "Year\n",
              "1990     4958.068182\n",
              "1991     5847.386364\n",
              "1992     6696.477273\n",
              "1993     7465.454545\n",
              "1994     8219.772727\n",
              "1995     8769.886364\n",
              "1996     9277.386364\n",
              "1997     9800.000000\n",
              "1998    10250.340909\n",
              "1999    10738.636364\n",
              "2000    11356.250000\n",
              "2001    11905.340909\n",
              "2002    12368.863636\n",
              "2003    12860.681818\n",
              "2004    13409.772727\n",
              "2005    13996.022727\n",
              "2006    14487.840909\n",
              "2007    15073.977273\n",
              "2008    15520.227273\n",
              "2009    16082.045455\n",
              "2010    16550.795455\n",
              "2011    16780.681818\n",
              "2012    17089.772727\n",
              "2013    17277.840909\n",
              "2014    17257.500000\n",
              "2015    17411.590909\n",
              "2016    17345.454545\n",
              "2017    17324.545455\n",
              "2018    17280.454545\n",
              "2019    17316.477273\n",
              "Name: Estimated number of people living with HIV, dtype: float64"
            ]
          },
          "metadata": {},
          "execution_count": 21
        }
      ]
    },
    {
      "cell_type": "code",
      "source": [
        "peranum3 = Gender_hiv2.groupby(['Year'])['Estimated number of annual new HIV infections'].mean()\n",
        "peranum3"
      ],
      "metadata": {
        "colab": {
          "base_uri": "https://localhost:8080/"
        },
        "id": "NZMJvhmq6j9p",
        "outputId": "da8b329b-d04a-4a5e-c5d8-53634657afe6"
      },
      "execution_count": 22,
      "outputs": [
        {
          "output_type": "execute_result",
          "data": {
            "text/plain": [
              "Year\n",
              "1990    2276.079609\n",
              "1991    2570.511427\n",
              "1992    2845.170518\n",
              "1993    3047.556882\n",
              "1994    3194.829609\n",
              "1995    3293.920518\n",
              "1996    3328.693245\n",
              "1997    3330.625063\n",
              "1998    3330.738700\n",
              "1999    3299.375063\n",
              "2000    3256.420518\n",
              "2001    3183.352336\n",
              "2002    3109.147791\n",
              "2003    2993.579609\n",
              "2004    2893.806882\n",
              "2005    2792.443245\n",
              "2006    2733.011427\n",
              "2007    2668.693245\n",
              "2008    2611.761427\n",
              "2009    2557.102336\n",
              "2010    2469.829609\n",
              "2011    2362.784154\n",
              "2012    2289.602336\n",
              "2013    2182.784154\n",
              "2014    2077.329609\n",
              "2015    1971.306882\n",
              "2016    1871.761427\n",
              "2017    1765.170518\n",
              "2018    1652.670518\n",
              "2019    1576.988700\n",
              "Name: Estimated number of annual new HIV infections, dtype: float64"
            ]
          },
          "metadata": {},
          "execution_count": 22
        }
      ]
    },
    {
      "cell_type": "code",
      "source": [
        "aids_related_deaths = Gender_hiv2.groupby(['Year'])['Estimated number of annual AIDS related deaths'].mean()\n",
        "aids_related_deaths"
      ],
      "metadata": {
        "colab": {
          "base_uri": "https://localhost:8080/"
        },
        "id": "e2JIJsJ-GJa2",
        "outputId": "b08a9825-353b-4c1f-de84-17da352ae20f"
      },
      "execution_count": 72,
      "outputs": [
        {
          "output_type": "execute_result",
          "data": {
            "text/plain": [
              "Year\n",
              "1990    117.130714\n",
              "1991    119.403441\n",
              "1992    135.312532\n",
              "1993    143.267077\n",
              "1994    157.017077\n",
              "1995    163.607986\n",
              "1996    190.085259\n",
              "1997    213.721623\n",
              "1998    238.721623\n",
              "1999    257.812532\n",
              "2000    286.335259\n",
              "2001    343.948895\n",
              "2002    390.426168\n",
              "2003    438.267077\n",
              "2004    480.539804\n",
              "2005    520.085259\n",
              "2006    552.357986\n",
              "2007    575.653441\n",
              "2008    579.062532\n",
              "2009    573.380714\n",
              "2010    562.244350\n",
              "2011    565.426168\n",
              "2012    549.062532\n",
              "2013    540.767077\n",
              "2014    517.471623\n",
              "2015    505.085259\n",
              "2016    480.994350\n",
              "2017    456.107986\n",
              "2018    429.630714\n",
              "2019    410.880714\n",
              "Name: Estimated number of annual AIDS related deaths, dtype: float64"
            ]
          },
          "metadata": {},
          "execution_count": 72
        }
      ]
    },
    {
      "cell_type": "code",
      "source": [
        "aids_related_deaths_peranum = Gender_hiv2.groupby(['Year', 'Country'])['Estimated rate of annual AIDS related deaths  per 100 000 population '].mean()\n",
        "aids_related_deaths_peranum.head(10)"
      ],
      "metadata": {
        "colab": {
          "base_uri": "https://localhost:8080/"
        },
        "id": "EkwymUjt3Jub",
        "outputId": "d0a2ba31-cbfe-49a3-ab69-41f4db756f3c"
      },
      "execution_count": 60,
      "outputs": [
        {
          "output_type": "execute_result",
          "data": {
            "text/plain": [
              "Year  Country                         \n",
              "1990  Angola                              0.215\n",
              "      Benin                               0.010\n",
              "      Burkina Faso                        3.005\n",
              "      Burundi                             2.905\n",
              "      Cameroon                            0.710\n",
              "      Central African Republic            2.085\n",
              "      Chad                                1.265\n",
              "      Congo                               3.690\n",
              "      Côte d'Ivoire                       2.030\n",
              "      Democratic Republic of the Congo    2.085\n",
              "Name: Estimated rate of annual AIDS related deaths  per 100 000 population , dtype: float64"
            ]
          },
          "metadata": {},
          "execution_count": 60
        }
      ]
    },
    {
      "cell_type": "code",
      "source": [
        "## I decided to plot each respective column by year based on their highest correlations\n",
        "plt.style.use('seaborn')\n",
        "plt.figure(figsize = (12, 5))\n",
        "plt.grid(c = 'g', \n",
        "         alpha = .9,\n",
        "         linestyle = '-')\n",
        "\n",
        "plt.plot(living_with,\n",
        "         color = 'blue',\n",
        "         marker = '.',\n",
        "         label = 'Living with HIV')\n",
        "\n",
        "plt.plot(peranum3,\n",
        "         color = 'green',\n",
        "         marker = '.',\n",
        "         label = 'Annual new HIV infection')\n",
        "\n",
        "plt.legend()\n",
        "plt.title('Average Current vs Average New HIV rates (1990-2019')\n",
        "plt.ylabel('Population');\n",
        "\n",
        "#Infection rates "
      ],
      "metadata": {
        "colab": {
          "base_uri": "https://localhost:8080/",
          "height": 335
        },
        "id": "b1WsDEYuwlT1",
        "outputId": "93be8aa3-ba06-4aab-c02f-10fa9bf1db76"
      },
      "execution_count": 77,
      "outputs": [
        {
          "output_type": "display_data",
          "data": {
            "image/png": "[encoded data removed]",
            "text/plain": [
              "<Figure size 864x360 with 1 Axes>"
            ]
          },
          "metadata": {}
        }
      ]
    },
    {
      "cell_type": "code",
      "source": [
        "plt.style.use('seaborn')\n",
        "plt.figure(figsize = (12, 5))\n",
        "plt.grid(c = 'g', \n",
        "         alpha = .9,\n",
        "         linestyle = '-')\n",
        "\n",
        "plt.plot(aids_related_deaths,\n",
        "         color = 'purple',\n",
        "         marker = '.',\n",
        "         label = 'AIDS related deaths')\n",
        "\n",
        "plt.plot(living_with,\n",
        "         color = 'red',\n",
        "         marker = '.',\n",
        "         label = 'Living with HIV')\n",
        "\n",
        "plt.legend()\n",
        "plt.title('Annual Aids Deaths vs Aids deaths Per 100000 (1990-2019')\n",
        "plt.ylabel('Population');\n",
        "\n",
        "#Infection rates of people living with HIV increase from 1990 until they reached an average peak of 17,411 in 2015."
      ],
      "metadata": {
        "colab": {
          "base_uri": "https://localhost:8080/",
          "height": 335
        },
        "id": "s9upYfqy24_E",
        "outputId": "905757a7-89ad-4635-ec1c-5a6fd27874e7"
      },
      "execution_count": 78,
      "outputs": [
        {
          "output_type": "display_data",
          "data": {
            "image/png": "[encoded data removed]",
            "text/plain": [
              "<Figure size 864x360 with 1 Axes>"
            ]
          },
          "metadata": {}
        }
      ]
    },
    {
      "cell_type": "code",
      "source": [
        ""
      ],
      "metadata": {
        "id": "FMXwV99NL6-p"
      },
      "execution_count": null,
      "outputs": []
    }
  ]
}