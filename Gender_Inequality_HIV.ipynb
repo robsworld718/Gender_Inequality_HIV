{
  "nbformat": 4,
  "nbformat_minor": 0,
  "metadata": {
    "colab": {
      "name": "Gender_Inequality_HIV.ipynb",
      "provenance": [],
      "authorship_tag": "ABX9TyPnpX0M48UTEl4jOKNLMhXo",
      "include_colab_link": true
    },
    "kernelspec": {
      "name": "python3",
      "display_name": "Python 3"
    },
    "language_info": {
      "name": "python"
    }
  },
  "cells": [
    {
      "cell_type": "markdown",
      "metadata": {
        "id": "view-in-github",
        "colab_type": "text"
      },
      "source": [
        "<a href=\"https://colab.research.google.com/github/robsworld718/Gender_Inequality_HIV/blob/main/Gender_Inequality_HIV.ipynb\" target=\"_parent\"><img src=\"https://colab.research.google.com/assets/colab-badge.svg\" alt=\"Open In Colab\"/></a>"
      ]
    },
    {
      "cell_type": "code",
      "source": [
        "from google.colab import drive\n",
        "drive.mount('/content/drive')"
      ],
      "metadata": {
        "colab": {
          "base_uri": "https://localhost:8080/"
        },
        "id": "SxzA1WTcjfVI",
        "outputId": "a0a96b61-2924-4fda-c76e-759d822210b1"
      },
      "execution_count": 2,
      "outputs": [
        {
          "output_type": "stream",
          "name": "stdout",
          "text": [
            "Mounted at /content/drive\n"
          ]
        }
      ]
    },
    {
      "cell_type": "code",
      "execution_count": 1,
      "metadata": {
        "id": "dXPUj_CxjKU7"
      },
      "outputs": [],
      "source": [
        "import matplotlib.pyplot as plt\n",
        "import seaborn as sns\n",
        "import pandas as pd\n",
        "import numpy as np\n",
        "filename = '/content/Jan 2021 Data - Viz5 Gender Inequality and HIVAIDS.csv'"
      ]
    },
    {
      "cell_type": "code",
      "source": [
        "Gender_hiv = pd.read_csv(filename, encoding= 'unicode_escape')\n",
        "Gender_hiv.info()"
      ],
      "metadata": {
        "colab": {
          "base_uri": "https://localhost:8080/"
        },
        "id": "l6rvX8A9jWuK",
        "outputId": "0ad99dfd-688c-4525-df68-f73cde18f3fb"
      },
      "execution_count": 9,
      "outputs": [
        {
          "output_type": "stream",
          "name": "stdout",
          "text": [
            "<class 'pandas.core.frame.DataFrame'>\n",
            "RangeIndex: 2640 entries, 0 to 2639\n",
            "Data columns (total 10 columns):\n",
            " #   Column                                                                          Non-Null Count  Dtype  \n",
            "---  ------                                                                          --------------  -----  \n",
            " 0   Country                                                                         2640 non-null   object \n",
            " 1   UNICEF Region                                                                   2640 non-null   object \n",
            " 2   Year                                                                            2640 non-null   int64  \n",
            " 3   Sex                                                                             2640 non-null   object \n",
            " 4   Age                                                                             2640 non-null   object \n",
            " 5   Estimated incidence rate of new HIV infection per 1 000 uninfected population   2520 non-null   float64\n",
            " 6   Estimated number of annual AIDS related deaths                                  2580 non-null   float64\n",
            " 7   Estimated number of annual new HIV infections                                   2520 non-null   float64\n",
            " 8   Estimated number of people living with HIV                                      2640 non-null   int64  \n",
            " 9   Estimated rate of annual AIDS related deaths  per 100 000 population            2580 non-null   float64\n",
            "dtypes: float64(4), int64(2), object(4)\n",
            "memory usage: 206.4+ KB\n"
          ]
        }
      ]
    }
  ]
}